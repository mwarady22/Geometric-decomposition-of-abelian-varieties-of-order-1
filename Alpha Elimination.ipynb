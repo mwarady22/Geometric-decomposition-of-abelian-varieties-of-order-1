{
 "cells": [
  {
   "cell_type": "markdown",
   "metadata": {
    "collapsed": false
   },
   "source": [
    "This notebook implements a computation used in the proof of Lemma 7.2 of \"Geometric decomposition of abelian varieties of order 1\"."
   ]
  },
  {
   "cell_type": "code",
   "execution_count": 1,
   "metadata": {
    "collapsed": false
   },
   "outputs": [
   ],
   "source": [
    "import sys\n",
    "import time\n",
    "from sage.all import *\n",
    "from itertools import combinations"
   ]
  },
  {
   "cell_type": "code",
   "execution_count": 2,
   "metadata": {
    "collapsed": false
   },
   "outputs": [
   ],
   "source": [
    "load(\"torsion_closure.sage\")"
   ]
  },
  {
   "cell_type": "code",
   "execution_count": 3,
   "metadata": {
    "collapsed": false
   },
   "outputs": [
   ],
   "source": [
    "t = time.time()"
   ]
  },
  {
   "cell_type": "markdown",
   "metadata": {
    "collapsed": false
   },
   "source": [
    "Compute the equation involving three roots of unity described in Lemma 5.1."
   ]
  },
  {
   "cell_type": "code",
   "execution_count": 4,
   "metadata": {
    "collapsed": false
   },
   "outputs": [
   ],
   "source": [
    "R.<alpha2, zeta1, zeta2, zeta3> = QQ[]\n",
    "alpha1 = alpha2 * zeta3\n",
    "a1 = alpha1 + 2 / alpha1 + 3\n",
    "a2 = alpha2 + 2 / alpha2 + 3\n",
    "e1 = a1 + a1^(- 1) - 4 - zeta1 - zeta1^(- 1)\n",
    "e2 = a2 + a2^(- 1) - 4 - zeta2 - zeta2^(- 1)\n",
    "u1 = e1.numerator().factor()[0][0]\n",
    "u2 = e2.numerator().factor()[1][0]\n",
    "f = u1.resultant(u2, alpha2)"
   ]
  },
  {
   "cell_type": "markdown",
   "metadata": {
    "collapsed": false
   },
   "source": [
    "Convert the answer into a Laurent polynomial, renormalizing to make the symmetry more visible. This confirms the statement of Lemma 5.1."
   ]
  },
  {
   "cell_type": "code",
   "execution_count": 5,
   "metadata": {
    "collapsed": false
   },
   "outputs": [
    {
     "name": "stdout",
     "output_type": "stream",
     "text": [
      "z1*z2*z3^-1 + z1 + z2 + z3 - 2*z1*z2*z3^-2 - z1*z3^-1 - z2*z3^-1 - z2^-1*z3 - z1^-1*z3 - 2*z1^-1*z2^-1*z3^2 + z3^-1 + z2^-1 + z1^-1 + z1^-1*z2^-1*z3\n"
     ]
    }
   ],
   "source": [
    "R1.<z1, z2, z3> = LaurentPolynomialRing(QQ, 3)\n",
    "g = f(0, z1, z2, z3)/(-2*z1*z2*z3^2)\n",
    "print(g)"
   ]
  },
  {
   "cell_type": "markdown",
   "metadata": {
    "collapsed": false
   },
   "source": [
    "Verify that the group $G$ preserves this polynomial."
   ]
  },
  {
   "cell_type": "code",
   "execution_count": 6,
   "metadata": {
    "collapsed": false
   },
   "outputs": [
   ],
   "source": [
    "assert g == g(z2, z1, z3)\n",
    "assert g == g(~z1, ~z2, ~z3)\n",
    "assert g == g(z1, ~z2, -z1/z3)"
   ]
  },
  {
   "cell_type": "markdown",
   "metadata": {
    "collapsed": false
   },
   "source": [
    "Compute the monomials of this Laurent polynomial, then remove the key terms $u = -z_1 z_2 z_3^{-2}$ and its inverse from the list."
   ]
  },
  {
   "cell_type": "code",
   "execution_count": 7,
   "metadata": {
    "collapsed": false
   },
   "outputs": [
   ],
   "source": [
    "mon = [i * g.monomial_coefficient(i).sign() for i in g.monomials()]\n",
    "u = -z1*z2*z3^(-2)\n",
    "mon.remove(u)\n",
    "mon.remove(~u)"
   ]
  },
  {
   "cell_type": "markdown",
   "metadata": {
    "collapsed": false
   },
   "source": [
    "Generate candidates for the Laurent polynomial $h$, then compute $G$-orbits using a Cayley graph. Also include edges of the form $(h, g-h)$."
   ]
  },
  {
   "cell_type": "code",
   "execution_count": 8,
   "metadata": {
    "collapsed": false
   },
   "outputs": [
    {
     "name": "stdout",
     "output_type": "stream",
     "text": [
      "16 orbits computed\n"
     ]
    }
   ],
   "source": [
    "l2 = [sum(t)+u+~u for i in range(7) for t in combinations(mon, i) if all(~j in t for j in t)] + \\\n",
    "     [mu + s for mu in mon+[u,~u] for s in [-1, 1]]\n",
    "edges = [(s, s(z2,z1,z3)) for s in l2] + [(s, s(~z1,~z2,~z3)) for s in l2] + [(s, s(z1, ~z2, -z1/z3)) for s in l2]\n",
    "for s in l2:\n",
    "    if len(list(s)) == 8:\n",
    "        edges.append((s, g-s))\n",
    "G = Graph(edges, loops=True) # This might add some new sums.\n",
    "G1 = G.subgraph(vertices=l2) # Retain only the sums we started with.\n",
    "l3 = [i[0] for i in G1.connected_components()]\n",
    "print(\"{} orbits computed\".format(len(l3)))"
   ]
  },
  {
   "cell_type": "markdown",
   "metadata": {
    "collapsed": false
   },
   "source": [
    "For each $h$, compute the torsion closure of the ideal $(g,h)$ in $\\mathbb{Q}[z_1^{\\pm}, z_2^{\\pm}, z_3^{\\pm}]$; this step is most of the runtime. To speed it up, we disable automatic cleanup of the results."
   ]
  },
  {
   "cell_type": "code",
   "execution_count": 9,
   "metadata": {
    "collapsed": false
   },
   "outputs": [
    {
     "name": "stdout",
     "output_type": "stream",
     "text": [
      "z2 - z1*z2*z3^-2 - z2*z3^-1 - z2^-1*z3 - z1^-1*z2^-1*z3^2 + z2^-1\n"
     ]
    },
    {
     "name": "stdout",
     "output_type": "stream",
     "text": [
      "z3 - z1*z2*z3^-2 - z1*z3^-1 - z2*z3^-1 - z2^-1*z3 - z1^-1*z3 - z1^-1*z2^-1*z3^2 + z3^-1\n"
     ]
    }
   ],
   "source": [
    "l4 = []\n",
    "for h in l3:\n",
    "    print(h)\n",
    "    l4 += torsion_closure(R1.ideal([g, h]), raw=True)\n",
    "print(\"Raw table complete\")"
   ]
  },
  {
   "cell_type": "markdown",
   "metadata": {
    "collapsed": false
   },
   "source": [
    "Sort the resulting solutions into zero-dimensional and positive-dimensional ideals."
   ]
  },
  {
   "cell_type": "code",
   "execution_count": 0,
   "metadata": {
    "collapsed": false
   },
   "outputs": [
   ],
   "source": [
    "l5a = []\n",
    "l5b = []\n",
    "for I in l4:\n",
    "    if I.dimension() > 0:\n",
    "        l5a.append(I)\n",
    "    else:\n",
    "        l5b.append(I)"
   ]
  },
  {
   "cell_type": "markdown",
   "metadata": {
    "collapsed": false
   },
   "source": [
    "Remove duplicates from the positive-dimensional solutions, then print the results."
   ]
  },
  {
   "cell_type": "code",
   "execution_count": 0,
   "metadata": {
    "collapsed": false
   },
   "outputs": [
   ],
   "source": [
    "l5a = torsion_closure_canonicalize(l5a, QQ)\n",
    "print(l5a)"
   ]
  },
  {
   "cell_type": "markdown",
   "metadata": {
    "collapsed": false
   },
   "source": [
    "Remove zero-dimensional solutions contained in a positive-dimensional solution."
   ]
  },
  {
   "cell_type": "code",
   "execution_count": 0,
   "metadata": {
    "collapsed": false
   },
   "outputs": [
   ],
   "source": [
    "l5b = [I for I in l5b if not any(J <= I for J in l5a)]"
   ]
  },
  {
   "cell_type": "markdown",
   "metadata": {
    "collapsed": false
   },
   "source": [
    "Sort the remaining zero-dimensional solutions by their base ring."
   ]
  },
  {
   "cell_type": "code",
   "execution_count": 0,
   "metadata": {
    "collapsed": false
   },
   "outputs": [
   ],
   "source": [
    "d = {}\n",
    "for I in l5b:\n",
    "    K = I.base_ring()\n",
    "    if K not in d:\n",
    "        d[K] = []\n",
    "    d[K].append(I)\n",
    "d2 = {}\n",
    "for K in d:\n",
    "    N = 2 if K == QQ else K.number_of_roots_of_unity()\n",
    "    if N not in d2:\n",
    "        d2[N] = []\n",
    "    d2[N] += d[K]"
   ]
  },
  {
   "cell_type": "markdown",
   "metadata": {
    "collapsed": false
   },
   "source": [
    "Print the fields of definition of the remaining zero-dimensional solutions."
   ]
  },
  {
   "cell_type": "code",
   "execution_count": 0,
   "metadata": {
    "collapsed": false
   },
   "outputs": [
   ],
   "source": [
    "print(sorted(list(d2.keys())))"
   ]
  },
  {
   "cell_type": "markdown",
   "metadata": {
    "collapsed": false
   },
   "source": [
    "Remove duplicates and Galois conjugates among the zero-dimensional solutions. Currently this is not used for anything."
   ]
  },
  {
   "cell_type": "code",
   "execution_count": 0,
   "metadata": {
    "collapsed": false
   },
   "outputs": [
   ],
   "source": [
    "for N in d2:\n",
    "    d2[N] = torsion_closure_canonicalize(d2[N], QQ)"
   ]
  },
  {
   "cell_type": "markdown",
   "metadata": {
    "collapsed": false
   },
   "source": [
    "Check for solutions involving roots of unity of different orders (proof of Corollary 1.2)."
   ]
  },
  {
   "cell_type": "code",
   "execution_count": 0,
   "metadata": {
    "collapsed": false
   },
   "outputs": [
   ],
   "source": [
    "pairs = []\n",
    "for N in [24, 30, 42]:\n",
    "    K.<z> = CyclotomicField(N)\n",
    "    RK.<z1K, z2K, z3K> = LaurentPolynomialRing(K, 3)\n",
    "    gK = g(z1K, z2K, z3K)\n",
    "    for i,j in itertools.combinations(range(N), 2):\n",
    "        if gcd(i ,N) != gcd(j, N):\n",
    "            if torsion_closure(RK.ideal([gK, z1K-z^i, z2K-z^j])):\n",
    "                (i1, j1) = (N//gcd(N, i), N//gcd(N, j))\n",
    "                (i1, j1) = (min(i1,j1), max(i1, j1))\n",
    "                if (i1, j1) not in pairs:\n",
    "                    pairs.append((i1, j1))\n",
    "print(sorted(pairs))"
   ]
  },
  {
   "cell_type": "code",
   "execution_count": 0,
   "metadata": {
    "collapsed": false
   },
   "outputs": [
   ],
   "source": [
    "print(\"Total time: {} seconds\".format(time.time()-t))"
   ]
  }
 ],
 "metadata": {
  "kernelspec": {
   "display_name": "SageMath 9.3",
   "language": "sagemath",
   "metadata": {
    "cocalc": {
     "description": "Open-source mathematical software system",
     "priority": 10,
     "url": "https://www.sagemath.org/"
    }
   },
   "name": "sage-9.3",
   "resource_dir": "/ext/jupyter/kernels/sage-9.3"
  },
  "language_info": {
   "codemirror_mode": {
    "name": "ipython",
    "version": 3
   },
   "file_extension": ".py",
   "mimetype": "text/x-python",
   "name": "python",
   "nbconvert_exporter": "python",
   "pygments_lexer": "ipython3",
   "version": "3.9.2"
  }
 },
 "nbformat": 4,
 "nbformat_minor": 4
}