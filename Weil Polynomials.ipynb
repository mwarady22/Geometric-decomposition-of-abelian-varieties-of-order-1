{
 "cells": [
  {
   "cell_type": "code",
   "execution_count": 582,
   "metadata": {
    "collapsed": false
   },
   "outputs": [
   ],
   "source": [
    "def P(n, factor=1): # if n = 7, 30, factor chooses which irreducible factor to return\n",
    "    S.<z> = CyclotomicField(n)\n",
    "    R.<x> = S[]\n",
    "    T.<x> = QQ[]\n",
    "\n",
    "    # for reducible cases, choose reducible factor\n",
    "    if n == 2:\n",
    "        return x - 1\n",
    "    elif n == 7:\n",
    "        if factor == 1:\n",
    "            return x^3 - 5*x^2 + 6*x - 1\n",
    "        else:\n",
    "            return x^3 - 6*x^2 + 5*x - 1\n",
    "    elif n == 30:\n",
    "        if factor == 1:\n",
    "            return x^4 - 8*x^3 + 14*x^2 - 7*x + 1\n",
    "        else:\n",
    "            return x^4 - 7*x^3 + 14*x^2 - 8*x + 1\n",
    "\n",
    "    # irreducible cases\n",
    "    if n == 1: # product over k = 0 only\n",
    "        return x^2 - 6*x + 1\n",
    "\n",
    "    klist = [j for j in Zmod(n).list_of_elements_of_multiplicative_group() if j <= n / 2] # k's coprime and <= n / 2\n",
    "    P = prod((x^2 - (4 + z^k + z^(- k))*x + 1) for k in klist)\n",
    "    P = T(P)\n",
    "\n",
    "    return P"
   ]
  },
  {
   "cell_type": "code",
   "execution_count": 583,
   "metadata": {
    "collapsed": false
   },
   "outputs": [
   ],
   "source": [
    "def Weil(n, factor=1):\n",
    "    poly = P(n, factor)\n",
    "    newP = poly(3 - x) # real Weil polynomial\n",
    "    weil = newP.reciprocal_transform(q=2)\n",
    "    return weil"
   ]
  },
  {
   "cell_type": "code",
   "execution_count": 584,
   "metadata": {
    "collapsed": false
   },
   "outputs": [
    {
     "data": {
      "text/plain": [
       "True"
      ]
     },
     "execution_count": 584,
     "metadata": {
     },
     "output_type": "execute_result"
    }
   ],
   "source": [
    "w = Weil(15)\n",
    "w.is_weil_polynomial()"
   ]
  },
  {
   "cell_type": "code",
   "execution_count": 585,
   "metadata": {
    "collapsed": false
   },
   "outputs": [
   ],
   "source": [
    "def check_ratios(weil): # checks the ratios of the roots of a single Weil polynomial\n",
    "    K.<w> = weil.splitting_field()\n",
    "    roots = weil.roots(ring = K, multiplicities = False) # each entry in list is unique, so no trivial ratios\n",
    "    l1 = [] # list of ratios that are roots of unity, simple if empty\n",
    "    l2 = [] # list of ratios that are not roots of unity\n",
    "    for i in range(len(roots)):\n",
    "        for j in range(i + 1, len(roots)):\n",
    "            r1 = roots[i]\n",
    "            r2 = roots[j]\n",
    "            n = (r1 / r2).multiplicative_order()\n",
    "            if n < +Infinity:\n",
    "                l1.append([r1, r2, n])\n",
    "            else:\n",
    "                l2.append([r1, r2])\n",
    "    if len(l1) > 0:\n",
    "#         print(l1)\n",
    "#         print(l2)\n",
    "        return 0 # nontrivial roots of unity\n",
    "    else:\n",
    "        return 1 # no nontrivial roots of unity"
   ]
  },
  {
   "cell_type": "code",
   "execution_count": 586,
   "metadata": {
    "collapsed": false
   },
   "outputs": [
    {
     "name": "stdout",
     "output_type": "stream",
     "text": [
      "x^8 - 3*x^7 + 2*x^6 + x^4 + 8*x^2 - 24*x + 16\n"
     ]
    },
    {
     "data": {
      "text/plain": [
       "0"
      ]
     },
     "execution_count": 586,
     "metadata": {
     },
     "output_type": "execute_result"
    }
   ],
   "source": [
    "w = Weil(10)\n",
    "print(w)\n",
    "ratios = check_ratios(w)\n",
    "ratios"
   ]
  },
  {
   "cell_type": "code",
   "execution_count": 589,
   "metadata": {
    "collapsed": false
   },
   "outputs": [
    {
     "name": "stdout",
     "output_type": "stream",
     "text": [
      "1\n",
      "2\n",
      "3\n",
      "4\n",
      "5\n"
     ]
    },
    {
     "name": "stdout",
     "output_type": "stream",
     "text": [
      "6\n",
      "7\n",
      "8\n"
     ]
    },
    {
     "name": "stdout",
     "output_type": "stream",
     "text": [
      "9\n"
     ]
    },
    {
     "name": "stdout",
     "output_type": "stream",
     "text": [
      "l3\n",
      "[1, 2, 3, 4, 5, 6, 7, 8, 9]\n",
      "l4\n",
      "[]\n"
     ]
    }
   ],
   "source": [
    "l3 = [] # no nontrivial roots of unity\n",
    "l4 = [] # nontrivial roots of unity\n",
    "for i in range(1, 10):\n",
    "    print(i)\n",
    "    if check_ratios(Weil(i)):\n",
    "        l4.append(i)\n",
    "    else:\n",
    "        l3.append(i)\n",
    "\n",
    "print('l3')\n",
    "print(l3)\n",
    "print('l4')\n",
    "print(l4)"
   ]
  },
  {
   "cell_type": "code",
   "execution_count": 15,
   "metadata": {
    "collapsed": false
   },
   "outputs": [
   ],
   "source": [
    "def Weil_F_q_to_F_qn(Weil, n):\n",
    "    R.<x, y> = QQ[]\n",
    "    return Weil(y).resultant(y^n - x, y)"
   ]
  },
  {
   "cell_type": "code",
   "execution_count": 0,
   "metadata": {
    "collapsed": false
   },
   "outputs": [
   ],
   "source": [
   ]
  }
 ],
 "metadata": {
  "kernelspec": {
   "display_name": "SageMath 9.1",
   "language": "sagemath",
   "metadata": {
    "cocalc": {
     "description": "Open-source mathematical software system",
     "priority": 1,
     "url": "https://www.sagemath.org/"
    }
   },
   "name": "sage-9.1",
   "resource_dir": "/ext/jupyter/kernels/sage-9.1"
  },
  "language_info": {
   "codemirror_mode": {
    "name": "ipython",
    "version": 3
   },
   "file_extension": ".py",
   "mimetype": "text/x-python",
   "name": "python",
   "nbconvert_exporter": "python",
   "pygments_lexer": "ipython3",
   "version": "3.7.3"
  }
 },
 "nbformat": 4,
 "nbformat_minor": 4
}