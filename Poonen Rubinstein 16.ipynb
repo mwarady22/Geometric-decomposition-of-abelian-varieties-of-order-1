{
 "cells": [
  {
   "cell_type": "markdown",
   "metadata": {
    "collapsed": false
   },
   "source": [
    "Comment: it might be easier to do all of the arithmetic in a *single* cyclotomic field. We need roots of unity of order 3, 5, 7, and their negations, and one more square root (for `splitT`).\n",
    "```\n",
    "N = 2^2*3*5*7\n",
    "K.<z0> = CyclotomicField(N)\n",
    "z3 = z0^(N//3)\n",
    "z5 = z0^(N//5)\n",
    "z7 = z0^(N//7)\n",
    "```"
   ]
  },
  {
   "cell_type": "code",
   "execution_count": 183,
   "metadata": {
    "collapsed": false
   },
   "outputs": [
   ],
   "source": [
    "# set up relations\n",
    "\n",
    "N = 2^2*3*5*7\n",
    "K.<z0> = CyclotomicField(N)\n",
    "z3 = z0^(N//3)\n",
    "z6 = z0^(N//6)\n",
    "z5 = z0^(N//5)\n",
    "z7 = z0^(N//7)\n",
    "\n",
    "# (R_5 : R_3), w = 6, 1 total\n",
    "R5_R3 = [z5, z5^2, z5^3, z5^4, z6^(- 1), z6]\n",
    "# (R_5 : 2R_3), w = 7, 2 total \n",
    "R5_2R3_a = [z5^2, z5^3, z5^4, z6^(- 1), z6, z6^(- 1)*z5, z6*z5]\n",
    "R5_2R3_b = [z5, z5^3, z5^4, z6^(- 1), z6, z6^(- 1)*z5^2, z6*z5^2]\n",
    "# (R_5 : 3R_3), w = 8, 2 total\n",
    "R5_3R3_a = [z5^3, z5^4, z6^(- 1), z6, z6^(- 1)*z5, z6*z5, z6^(- 1)*z5^2, z6*z5^2]\n",
    "R5_3R3_b = [z5, z5^4, z6^(- 1), z6, z6^(- 1)*z5^2, z6*z5^2, z6^(- 1)*z5^3, z6*z5^3]\n",
    "# (R_7 : R_3), w = 8, 1 total\n",
    "R7_R3 = [z7, z7^2, z7^3, z7^4, z7^5, z7^6, z6^(- 1), z6]\n",
    "\n",
    "list_8 = [R5_R3, R5_2R3_a, R5_2R3_b, R5_3R3_a, R5_3R3_b, R7_R3]\n",
    "# list_8 = [R5_R3]"
   ]
  },
  {
   "cell_type": "code",
   "execution_count": 184,
   "metadata": {
    "collapsed": false
   },
   "outputs": [
   ],
   "source": [
    "def splitT(T, m1, m2, neg=False): # takes in list T of terms without z (relation), indices of two terms m1 < m2 to use to compute z\n",
    "    z = sqrt(T[m1]^(- 1)*T[m2]^(- 1))\n",
    "    if neg:\n",
    "        z = - z\n",
    "    T1, T2 = findT1T2(T, z) # K: return also the complementary set T2 for later use, see below\n",
    "    t1 = sum(T1)\n",
    "    return z, t1, T1, T2"
   ]
  },
  {
   "cell_type": "markdown",
   "metadata": {
    "collapsed": false
   },
   "source": [
    "Comment: given $T$ and $z$, $T_1$ can be defined as $zT \\cap \\overline{zT}$, so the following would work:"
   ]
  },
  {
   "cell_type": "code",
   "execution_count": 185,
   "metadata": {
    "collapsed": false
   },
   "outputs": [
   ],
   "source": [
    "def findT1T2(T, z):\n",
    "    zT = [z * t for t in T]\n",
    "    T1 = [i for i in zT if ~i in zT]\n",
    "    T2 = [i for i in zT if i not in T1]\n",
    "    return T1, T2"
   ]
  },
  {
   "cell_type": "code",
   "execution_count": 186,
   "metadata": {
    "collapsed": false
   },
   "outputs": [
   ],
   "source": [
    "def findt1reps(relations): # relations : list of relations\n",
    "    Tlist = [] # list containing [T, z, t1a, t2a, T1a, T2a] for each T\n",
    "    t1list = [] # list containing just t1 for each T\n",
    "    for T in relations:\n",
    "        for j in range(0, len(T)):\n",
    "            for k in range(j, len(T)): # only care about the unordered pair {j,k}\n",
    "                za, t1a, T1a, T2a = splitT(T, j, k)\n",
    "                Tlist.append([T, za, t1a, T1a, T2a])\n",
    "                t1list.append(t1a)\n",
    "                zb, t1b, T1b, T2b = splitT(T, j, k, neg = True)\n",
    "                Tlist.append([T, zb, t1b, T1b, T2b])\n",
    "                t1list.append(t1b)\n",
    "    repeats = {} # dictionary containing any sum t1 that repeats, along with the associated T, z, t1a, t2a, T1a, T2a that lead to this t1\n",
    "    for l in range(0, len(t1list)):\n",
    "        t1l = t1list[l]\n",
    "        if t1l in repeats:\n",
    "            repeats[t1l].append(Tlist[l])\n",
    "        else:\n",
    "            repeats[t1l] = [Tlist[l]]\n",
    "\n",
    "    # K: Remove duplicates where the same T1 shows up in a different order.\n",
    "    for i in repeats:\n",
    "        tmp = []\n",
    "        for j in range(len(repeats[i])):\n",
    "            for k in range(j+1, len(repeats[i])):\n",
    "                if repeats[i][j][0] == repeats[i][k][0] and \\\n",
    "                    repeats[i][j][2] == repeats[i][k][2] and \\\n",
    "                    set(repeats[i][j][3]) == set(repeats[i][k][3]):\n",
    "                    break\n",
    "            else:\n",
    "                tmp.append(repeats[i][j])\n",
    "        repeats[i] = tmp\n",
    "\n",
    "# K: ignore t=0, this only happens if T1 = T.\n",
    "    del repeats[0]\n",
    "\n",
    "    return repeats"
   ]
  },
  {
   "cell_type": "markdown",
   "metadata": {
    "collapsed": false
   },
   "source": [
    "Comment: the following function finds a relation of minimal length among a list of roots of unity. This will be needed for postprocessing the previous results."
   ]
  },
  {
   "cell_type": "code",
   "execution_count": 187,
   "metadata": {
    "collapsed": false
   },
   "outputs": [
   ],
   "source": [
    "import itertools"
   ]
  },
  {
   "cell_type": "code",
   "execution_count": 188,
   "metadata": {
    "collapsed": false
   },
   "outputs": [
   ],
   "source": [
    "def minimal_relation(l):\n",
    "    for i in range(1, len(l)+1):\n",
    "        for s in itertools.combinations(l, i):\n",
    "            if sum(s) == 0:\n",
    "                return(s)\n",
    "    raise ValueError(\"No relation found\")\n"
   ]
  },
  {
   "cell_type": "markdown",
   "metadata": {
    "collapsed": false
   },
   "source": [
    "Similar but now we look for a symmetric (conjugation-stable) relation."
   ]
  },
  {
   "cell_type": "code",
   "execution_count": 189,
   "metadata": {
    "collapsed": false
   },
   "outputs": [
   ],
   "source": [
    "def minimal_symmetric_relation(l):\n",
    "    for i in range(1, len(l)+1):\n",
    "        for s in itertools.combinations(l, i):\n",
    "            if sum(s) == 0 and all(~i in s for i in s):\n",
    "                return(s)\n",
    "    raise ValueError(\"No symmetric relation found\")\n"
   ]
  },
  {
   "cell_type": "code",
   "execution_count": 190,
   "metadata": {
    "collapsed": false
   },
   "outputs": [
    {
     "name": "stdout",
     "output_type": "stream",
     "text": [
      "done, no errors\n"
     ]
    }
   ],
   "source": [
    "d = findt1reps(list_8)\n",
    "for i in d.keys():\n",
    "    if len(d[i]) > 1:\n",
    "        for t1, t2 in itertools.combinations(d[i], 2):\n",
    "            T1a = t1[3]\n",
    "            T2a = t1[4]\n",
    "            T1b = t2[3]\n",
    "            T2b = t2[4]\n",
    "            for s1 in [-1,1]:\n",
    "                l = T1a + T1b + [i^s1 for i in T2a] + T2b\n",
    "                t = minimal_relation(l)\n",
    "                assert not (all(~i in l for i in l) and any(~i in t for i in t) and not all(~i in t for i in t))\n",
    "print('done, no errors')"
   ]
  },
  {
   "cell_type": "code",
   "execution_count": 0,
   "metadata": {
    "collapsed": false
   },
   "outputs": [
   ],
   "source": [
   ]
  }
 ],
 "metadata": {
  "kernelspec": {
   "display_name": "SageMath 9.1",
   "language": "sagemath",
   "metadata": {
    "cocalc": {
     "description": "Open-source mathematical software system",
     "priority": 1,
     "url": "https://www.sagemath.org/"
    }
   },
   "name": "sage-9.1",
   "resource_dir": "/ext/jupyter/kernels/sage-9.1"
  },
  "language_info": {
   "codemirror_mode": {
    "name": "ipython",
    "version": 3
   },
   "file_extension": ".py",
   "mimetype": "text/x-python",
   "name": "python",
   "nbconvert_exporter": "python",
   "pygments_lexer": "ipython3",
   "version": "3.7.3"
  }
 },
 "nbformat": 4,
 "nbformat_minor": 4
}