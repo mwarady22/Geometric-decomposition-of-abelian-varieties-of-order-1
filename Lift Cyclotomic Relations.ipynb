{
 "cells": [
  {
   "cell_type": "markdown",
   "metadata": {
    "collapsed": false
   },
   "source": [
    "This notebook implements a computation used in the proof of Theorem 6.4 of \"Geometric decomposition of abelian varieties of order 1\"."
   ]
  },
  {
   "cell_type": "code",
   "execution_count": 9,
   "metadata": {
    "collapsed": false
   },
   "outputs": [
   ],
   "source": [
    "import itertools"
   ]
  },
  {
   "cell_type": "markdown",
   "metadata": {
    "collapsed": false
   },
   "source": [
    "This subroutine computes the mod 2 reduction of an element of a cyclotomic number field by reducing the coefficients in the power basis expansion. The field $K$ only needs to be specified if it cannot be read off from the parent of the element."
   ]
  },
  {
   "cell_type": "code",
   "execution_count": 10,
   "metadata": {
    "collapsed": false
   },
   "outputs": [
   ],
   "source": [
    "def mod2_cyc(t, K=None): \n",
    "    if K is None: \n",
    "        K = t.parent() \n",
    "    return K([i%2 for i in K(t).list()]) "
   ]
  },
  {
   "cell_type": "markdown",
   "metadata": {
    "collapsed": false
   },
   "source": [
    "This subroutine tests whether or not a list of roots of unity contains a proper nonempty subsequence which is a mod 2 cyclotomic relation."
   ]
  },
  {
   "cell_type": "code",
   "execution_count": 11,
   "metadata": {
    "collapsed": false
   },
   "outputs": [
   ],
   "source": [
    "def contains_relation(l, K=None): \n",
    "    for i in range(1, len(l)-1): \n",
    "        for s in itertools.combinations(l, i): \n",
    "            if mod2_cyc(sum(s), K=K) == 0: \n",
    "                return True \n",
    "    return False"
   ]
  },
  {
   "cell_type": "markdown",
   "metadata": {
    "collapsed": false
   },
   "source": [
    "Compute the dictionary `d` defined as follows: for $t$ a cyclotomic integer and $i=2,\\dots,6$, `d[t][i]` is a list of all sets of $i$ powers of $\\zeta_{15}$ with sum congruent to $t$ mod 2 which do not contain a mod 2 cyclotomic relation."
   ]
  },
  {
   "cell_type": "code",
   "execution_count": 12,
   "metadata": {
    "collapsed": false
   },
   "outputs": [
   ],
   "source": [
    "d = {}\n",
    "K.<z> = CyclotomicField(15)\n",
    "for i in range(2, 7):\n",
    "    for s in itertools.combinations(range(15), i):\n",
    "        s1 = [z^j for j in s]\n",
    "        if contains_relation(s1, K):\n",
    "            continue\n",
    "        t = mod2_cyc(sum(s1))\n",
    "        if t not in d:\n",
    "            d[t] = {}\n",
    "            for j in range(2, 7):\n",
    "                d[t][j] = []\n",
    "        d[t][i].append(s)"
   ]
  },
  {
   "cell_type": "markdown",
   "metadata": {
    "collapsed": false
   },
   "source": [
    "Compute the dictionary `d2` defined as follows: for $t = 1 + \\zeta_N$ with $N \\in \\{3,5,15\\}$, for $t_2 \\in \\{1 \\pm \\zeta_N\\}$, `d2[t][t2]` is a list of all sets of $i$ powers of $\\zeta_{15}$ which can be lifted (by multiplying each term by a sign) to a list with sum $t_2$. In the process, we confirm that every entry of $d$ lifts to east one of the two options for $t_2$."
   ]
  },
  {
   "cell_type": "code",
   "execution_count": 13,
   "metadata": {
    "collapsed": false
   },
   "outputs": [
   ],
   "source": [
    "d2 = {}\n",
    "for i0 in [1, 3, 5]:\n",
    "    t = 1 + z^i0\n",
    "    t1 = [1 + z^i0, 1-z^i0]\n",
    "    d2[t] = {i: [] for i in t1}\n",
    "    for i in range(2, 7):\n",
    "        for s in d[t][i]:\n",
    "            s1 = [z^j for j in s]\n",
    "            abort = True\n",
    "            for s2 in itertools.product([-1,1], repeat=i):\n",
    "                t2 = sum(s1[j]*s2[j] for j in range(i))\n",
    "                if t2 in t1:\n",
    "                    d2[t][t2].append(s)\n",
    "                    abort = False\n",
    "            if abort:\n",
    "                raise RuntimeError(t, s)"
   ]
  },
  {
   "cell_type": "markdown",
   "metadata": {
    "collapsed": false
   },
   "source": [
    "For each choice of $t$ and, find the size of the smallest sets of $i$ powers of $\\zeta_{15}$ with sum congruent to $t$ mod 2 which do not lift to sets with sums $1+\\zeta_N$ and $1-\\zeta_N$."
   ]
  },
  {
   "cell_type": "code",
   "execution_count": 15,
   "metadata": {
    "collapsed": false
   },
   "outputs": [
    {
     "name": "stdout",
     "output_type": "stream",
     "text": [
      "z + 1: 5, 4\n",
      "z^3 + 1: No counterexample possible: 16 0\n",
      "z^5 + 1: No counterexample possible: 19 0\n"
     ]
    }
   ],
   "source": [
    "for i0 in [1,3,5]:\n",
    "    t = 1 + z^i0\n",
    "    t1 = list(d2[t].keys())\n",
    "    diff1 = [s for s in d2[t][t1[0]] if s not in d2[t][t1[1]]]\n",
    "    diff2 = [s for s in d2[t][t1[1]] if s not in d2[t][t1[0]]]\n",
    "    if not diff1 or not diff2:\n",
    "        print(\"{}: No counterexample possible: {} {}\".format(t, len(diff1), len(diff2)))\n",
    "    else:\n",
    "        print(\"{}: {}, {}\".format(t, min(len(s) for s in diff1), min(len(s) for s in diff2)))"
   ]
  },
  {
   "cell_type": "code",
   "execution_count": 0,
   "metadata": {
    "collapsed": false
   },
   "outputs": [
   ],
   "source": [
   ]
  }
 ],
 "metadata": {
  "kernelspec": {
   "display_name": "SageMath 9.3",
   "language": "sagemath",
   "metadata": {
    "cocalc": {
     "description": "Open-source mathematical software system",
     "priority": 10,
     "url": "https://www.sagemath.org/"
    }
   },
   "name": "sage-9.3",
   "resource_dir": "/ext/jupyter/kernels/sage-9.3"
  },
  "language_info": {
   "codemirror_mode": {
    "name": "ipython",
    "version": 3
   },
   "file_extension": ".py",
   "mimetype": "text/x-python",
   "name": "python",
   "nbconvert_exporter": "python",
   "pygments_lexer": "ipython3",
   "version": "3.9.5"
  }
 },
 "nbformat": 4,
 "nbformat_minor": 4
}